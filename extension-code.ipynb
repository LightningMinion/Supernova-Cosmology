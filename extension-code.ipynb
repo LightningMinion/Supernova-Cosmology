{
 "cells": [
  {
   "cell_type": "markdown",
   "metadata": {},
   "source": [
    "# Import libraries"
   ]
  },
  {
   "cell_type": "code",
   "execution_count": 1,
   "metadata": {},
   "outputs": [],
   "source": [
    "import numpy as np\n",
    "import scipy as scp\n",
    "import matplotlib.pyplot as plt"
   ]
  },
  {
   "cell_type": "markdown",
   "metadata": {},
   "source": [
    "# Define constants"
   ]
  },
  {
   "cell_type": "code",
   "execution_count": 2,
   "metadata": {},
   "outputs": [],
   "source": [
    "c = 299792.458 #is this in the correct units?\n",
    "#H0 = 75 # might be able to find this myself?\n",
    "f0 = 6.61* 10**-9 * 10**(-7) * (3.2408*10**(-25))**(-2)\n",
    "megaparsec = 3.0856775814913673 * 10**10"
   ]
  },
  {
   "cell_type": "markdown",
   "metadata": {},
   "source": [
    "# Some key functions"
   ]
  },
  {
   "cell_type": "code",
   "execution_count": 3,
   "metadata": {},
   "outputs": [],
   "source": [
    "#order of variables: z, k, H0, omega_M, omega_DE, LPeakLambda, rc\n",
    "\n",
    "def scale_factor(z):\n",
    "    return 1/(1+z)\n",
    "\n",
    "def curv_scale(H0, omega_M, omega_DE):\n",
    "    R0 = c/(H0*np.sqrt(np.abs(omega_M+omega_DE-1)))\n",
    "    return R0\n",
    "\n",
    "def Friedmann_eq(z, k, H0, omega_M, omega_DE):\n",
    "    a = scale_factor(z)\n",
    "    R0 = curv_scale(H0, omega_M, omega_DE)\n",
    "    H2 = (H0**2)*(omega_M/(a**3) + omega_DE - k*(c**2)/((R0**2)*(a**2)))\n",
    "    return np.sqrt(H2)\n",
    "\n",
    "def integrand(z, k, H0, omega_M, omega_DE):\n",
    "    return c/Friedmann_eq(z, k, H0, omega_M, omega_DE)\n",
    "\n",
    "def co_moving_dist(z_up, k, H0, omega_M, omega_DE):\n",
    "    dist, err = scp.integrate.quad(integrand, 0, z_up, args = (k, H0, omega_M, omega_DE))\n",
    "    return dist\n",
    "\n",
    "def Sk(k, H0, omega_M, omega_DE, rc):\n",
    "    R0 = curv_scale(H0, omega_M, omega_DE)\n",
    "    if k == 0:\n",
    "        sk = rc\n",
    "    elif k > 0:\n",
    "        sk = R0*np.sin(rc/R0)\n",
    "    elif k < 0:\n",
    "        sk = R0*np.sinh(rc/R0)\n",
    "    return sk\n",
    "\n",
    "def mag_model(z, k, H0, omega_M, omega_DE, LPeakLambda):\n",
    "    rc = co_moving_dist(z, k, H0, omega_M, omega_DE)\n",
    "    sk = Sk(k, H0, omega_M, omega_DE, rc)\n",
    "    flux = LPeakLambda/(4*np.pi*(sk**2)*((1+z)**2))\n",
    "    argument = flux/f0\n",
    "    mag = -2.5*np.log10(argument)\n",
    "    return mag"
   ]
  },
  {
   "cell_type": "markdown",
   "metadata": {},
   "source": [
    "# Load the data"
   ]
  },
  {
   "cell_type": "code",
   "execution_count": 4,
   "metadata": {},
   "outputs": [],
   "source": [
    "sn_z, sn_mag, sn_mag_err = np.loadtxt(\"sn_data.txt\", usecols=(1,2,3), unpack = True)"
   ]
  }
 ],
 "metadata": {
  "kernelspec": {
   "display_name": "Python 3",
   "language": "python",
   "name": "python3"
  },
  "language_info": {
   "codemirror_mode": {
    "name": "ipython",
    "version": 3
   },
   "file_extension": ".py",
   "mimetype": "text/x-python",
   "name": "python",
   "nbconvert_exporter": "python",
   "pygments_lexer": "ipython3",
   "version": "3.12.8"
  }
 },
 "nbformat": 4,
 "nbformat_minor": 2
}
