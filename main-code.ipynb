{
 "cells": [
  {
   "cell_type": "markdown",
   "metadata": {},
   "source": [
    "# Functions"
   ]
  },
  {
   "cell_type": "code",
   "execution_count": 1,
   "metadata": {},
   "outputs": [
    {
     "name": "stdout",
     "output_type": "stream",
     "text": [
      "389.6576938798581\n"
     ]
    }
   ],
   "source": [
    "import numpy as np\n",
    "import scipy as scp\n",
    "\n",
    "def scale_factor(z):\n",
    "    return 1/(1+z)\n",
    "\n",
    "z = 0.1\n",
    "a = scale_factor(z)\n",
    "H0 = 75\n",
    "omega_DE = 0.669\n",
    "omega_M = 1 - omega_DE\n",
    "c = 299792.458\n",
    "\n",
    "def Friedmann_eq(z):\n",
    "    a = scale_factor(z)\n",
    "    return H0*np.sqrt(omega_M/(a**3) + omega_DE + (1-omega_M-omega_DE)/(a**2))\n",
    "\n",
    "def integrand(z):\n",
    "    return c/Friedmann_eq(z)\n",
    "\n",
    "def co_moving_dist(z_up):\n",
    "    dist, err = scp.integrate.quad(integrand, 0, z_up)\n",
    "    return dist\n",
    "\n",
    "def co_moving_dist_near(z):\n",
    "    return z*c/H0\n",
    "\n",
    "rc = co_moving_dist(z)\n",
    "print(rc)\n",
    "\n",
    "def flux_model(rc, Lp, z):\n",
    "    flux = Lp/(4*np.pi*(rc**2)*((1+z)*2))\n",
    "#then convert this to magnitudes and compare with the data\n",
    "\n",
    "#use this to find Lp using chi-sq minimisation\n",
    "def flux_model_near(Lp, z):\n",
    "    rc = co_moving_dist_near(z)\n",
    "    flux = Lp/(4*np.pi*(rc)**2*((1+z)**2))\n",
    "    return flux"
   ]
  },
  {
   "cell_type": "markdown",
   "metadata": {},
   "source": [
    "# Finding peak luminosity:"
   ]
  },
  {
   "cell_type": "code",
   "execution_count": null,
   "metadata": {},
   "outputs": [],
   "source": [
    "f0 = 6.61 * 10**(-9) * 10**(-7) * (0.01)**(-2) * (10**(-10))**(-1)\n",
    "\n",
    "def mag_model_near(Lpl, z):\n",
    "    rc = co_moving_dist_near(z)\n",
    "    flux = Lpl/(4*np.pi*(rc)**2)\n",
    "    mag = -2.5*np.log10(flux/f0)\n",
    "    return mag"
   ]
  },
  {
   "cell_type": "markdown",
   "metadata": {},
   "source": [
    "# Chi squared mininimisation to find peak luminosity:"
   ]
  },
  {
   "cell_type": "code",
   "execution_count": null,
   "metadata": {},
   "outputs": [],
   "source": [
    "initial = 1 #initial guess for L_peak_lambda\n",
    "deg_freedom = x.size - initial.size #change x to actual data values\n",
    "popt, cov = scipy.optimize.curve_fit(model_funct, # function to fit\n",
    "                                     xval, # x data\n",
    "                                     yval, # y data\n",
    "                                     sigma=yerr, # set yerr as the array of error bars for the fit\n",
    "                                     absolute_sigma=True, # errors bars DO represent 1 std error\n",
    "                                     p0=initial, # starting point for fit\n",
    "                                     check_finite=True)\n",
    "# define variables\n",
    "def chisq(model_params, x_data, y_data, y_err):\n",
    "    chisqval=0\n",
    "    for i in range(len(x_data)):\n",
    "        chisqval += ((y_data[i] - model_funct(x_data[i], *model_params))/y_err[i])**2 \n",
    "        # NOTE again the asterisk (*) before 'model_params' here!\n",
    "    return chisqval\n",
    "\n",
    "chisq_min = chisq(popt, xval, yval, yerr)\n",
    "reduced_chisq_min = chisq_min/deg_freedom\n",
    "print(reduced_chisq_min)"
   ]
  },
  {
   "cell_type": "code",
   "execution_count": null,
   "metadata": {},
   "outputs": [],
   "source": []
  }
 ],
 "metadata": {
  "kernelspec": {
   "display_name": "Python 3",
   "language": "python",
   "name": "python3"
  },
  "language_info": {
   "codemirror_mode": {
    "name": "ipython",
    "version": 3
   },
   "file_extension": ".py",
   "mimetype": "text/x-python",
   "name": "python",
   "nbconvert_exporter": "python",
   "pygments_lexer": "ipython3",
   "version": "3.12.7"
  }
 },
 "nbformat": 4,
 "nbformat_minor": 2
}
