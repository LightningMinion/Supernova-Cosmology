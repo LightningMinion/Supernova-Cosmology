{
 "cells": [
  {
   "cell_type": "markdown",
   "metadata": {},
   "source": [
    "# Import libraries"
   ]
  },
  {
   "cell_type": "code",
   "execution_count": 34,
   "metadata": {},
   "outputs": [],
   "source": [
    "import numpy as np\n",
    "import scipy as scp\n",
    "import math\n",
    "import matplotlib.pyplot as plt"
   ]
  },
  {
   "cell_type": "markdown",
   "metadata": {},
   "source": [
    "# Define constants"
   ]
  },
  {
   "cell_type": "code",
   "execution_count": null,
   "metadata": {},
   "outputs": [],
   "source": [
    "c = 299792.458\n",
    "H0 = 75"
   ]
  },
  {
   "cell_type": "markdown",
   "metadata": {},
   "source": [
    "# Functions"
   ]
  },
  {
   "cell_type": "code",
   "execution_count": null,
   "metadata": {},
   "outputs": [],
   "source": [
    "\n",
    "\n",
    "def scale_factor(z):\n",
    "    return 1/(1+z)\n",
    "\n",
    "z = 0.1\n",
    "a = scale_factor(z)\n",
    "H0 = 75\n",
    "omega_DE = 0.669\n",
    "omega_M = 1 - omega_DE\n",
    "c = 299792.458\n",
    "\n",
    "def Friedmann_eq(z, omega_DE):\n",
    "    omega_M = 1 - omega_DE\n",
    "    a = scale_factor(z)\n",
    "    return H0*np.sqrt(omega_M/(a**3) + omega_DE + (1-omega_M-omega_DE)/(a**2))\n",
    "\n",
    "def integrand(z, omega_DE):\n",
    "    return c/Friedmann_eq(z, omega_DE)\n",
    "\n",
    "def co_moving_dist(z_up, omega_DE):\n",
    "    dist, err = scp.integrate.quad(integrand, 0, z_up, args = omega_DE)\n",
    "    return dist\n",
    "\n",
    "def co_moving_dist_near(z):\n",
    "    return z*c/H0\n",
    "\n",
    "#rc = co_moving_dist(z)\n",
    "#print(rc)\n",
    "\n",
    "def flux_model(omega_DE, Lp, z):\n",
    "    rc = co_moving_dist(z, omega_DE)\n",
    "    flux = Lp/(4*np.pi*(rc**2)*((1+z)*2))\n",
    "#then convert this to magnitudes and compare with the data\n",
    "\n",
    "#use this to find Lp using chi-sq minimisation\n",
    "def flux_model_near(Lp, z):\n",
    "    rc = co_moving_dist_near(z)\n",
    "    flux = Lp/(4*np.pi*(rc)**2*((1+z)**2))\n",
    "    return flux"
   ]
  },
  {
   "cell_type": "markdown",
   "metadata": {},
   "source": [
    "# Load the data"
   ]
  },
  {
   "cell_type": "code",
   "execution_count": 4,
   "metadata": {},
   "outputs": [
    {
     "name": "stdout",
     "output_type": "stream",
     "text": [
      "[0.03  0.05  0.026 0.075 0.026 0.014 0.101 0.02  0.036 0.045 0.043 0.018\n",
      " 0.079 0.088 0.063 0.071 0.052 0.05 ]\n"
     ]
    }
   ],
   "source": [
    "sn_z_near, sn_mag_near, sn_mag_err_near =  np.loadtxt(\"sn_data_nearby.txt\", unpack = True, usecols=(1,2,3))\n",
    "#sn_z_near = np.array(sn_z_near)\n",
    "print(sn_z_near)\n"
   ]
  },
  {
   "cell_type": "markdown",
   "metadata": {},
   "source": [
    "# Finding peak luminosity:"
   ]
  },
  {
   "cell_type": "code",
   "execution_count": 39,
   "metadata": {},
   "outputs": [],
   "source": [
    "f0 = 6.61* 10**-9 * 10**(-7) * (3.2408*10**(-25))**(-2)\n",
    "#6.61 * 10**(-9)\n",
    "# * 10**(-7) * (0.01)**(-2) * (10**(-10))**(-1)\n",
    "\n",
    "def mag_model_near(z, *Lpl):\n",
    "    rc = co_moving_dist_near(z)\n",
    "    flux = Lpl[0]/(4*np.pi*(rc)**2)\n",
    "    argument = flux/f0\n",
    "    #print(argument)\n",
    "    mag = -2.5*np.log10(argument)\n",
    "    #print(mag)\n",
    "    return mag"
   ]
  },
  {
   "cell_type": "markdown",
   "metadata": {},
   "source": [
    "# Chi squared mininimisation to find peak luminosity:"
   ]
  },
  {
   "cell_type": "code",
   "execution_count": 98,
   "metadata": {},
   "outputs": [
    {
     "name": "stdout",
     "output_type": "stream",
     "text": [
      "[2.95680692e+32]\n",
      "1.400409070540853\n",
      "optimised parameter[0] = 2.9568069214936652e+32 +/- 1.2650797448988194e+31\n",
      "23.8069541991945\n"
     ]
    }
   ],
   "source": [
    "initial = np.array([1000000000]) #initial guess for L_peak_lambda\n",
    "deg_freedom = sn_z_near.size - initial.size #change x to actual data values\n",
    "popt, cov = scp.optimize.curve_fit(mag_model_near, # function to fit\n",
    "                                     sn_z_near, # x data\n",
    "                                     sn_mag_near, # y data\n",
    "                                     sigma=sn_mag_err_near, # set yerr as the array of error bars for the fit\n",
    "                                     absolute_sigma=True, # errors bars DO represent 1 std error\n",
    "                                     p0=initial, # starting point for fit\n",
    "                                     check_finite=True)\n",
    "# define variables\n",
    "print(popt)\n",
    "def chisq(model_params, x_data, y_data, y_err):\n",
    "    chisqval=0\n",
    "    for i in range(len(x_data)):\n",
    "        chisqval += ((y_data[i] - mag_model_near(x_data[i], *model_params))/y_err[i])**2 \n",
    "        # NOTE again the asterisk (*) before 'model_params' here!\n",
    "    return chisqval\n",
    "\n",
    "chisq_min = chisq(popt, sn_z_near, sn_mag_near, sn_mag_err_near)\n",
    "reduced_chisq_min = chisq_min/deg_freedom\n",
    "print(reduced_chisq_min)\n",
    "popt_errs = np.sqrt(np.diag(cov))\n",
    "Lpl_err = popt_errs[0]\n",
    "for i in range(len(popt)):\n",
    "    print('optimised parameter[{}] = {} +/- {}'.format(i, popt[i], popt_errs[i]))\n",
    "print(chisq_min)"
   ]
  },
  {
   "cell_type": "code",
   "execution_count": 110,
   "metadata": {},
   "outputs": [
    {
     "name": "stderr",
     "output_type": "stream",
     "text": [
      "<>:10: SyntaxWarning: invalid escape sequence '\\l'\n",
      "<>:10: SyntaxWarning: invalid escape sequence '\\l'\n",
      "C:\\Users\\milan\\AppData\\Local\\Temp\\ipykernel_18972\\3240295274.py:10: SyntaxWarning: invalid escape sequence '\\l'\n",
      "  plt.xlabel(\"${L_{\\lambda, peak}}$ ${(W Å^{-1})}$\")\n"
     ]
    },
    {
     "name": "stdout",
     "output_type": "stream",
     "text": [
      "17\n"
     ]
    },
    {
     "data": {
      "image/png": "[encoded data removed]",
      "text/plain": [
       "<Figure size 640x480 with 1 Axes>"
      ]
     },
     "metadata": {},
     "output_type": "display_data"
    }
   ],
   "source": [
    "Lpeak_trial_vals = np.linspace(2.5*10**32, 3.5*10**32, 1000)\n",
    "chisq_vals = np.zeros(len(Lpeak_trial_vals))\n",
    "for i in range(len(Lpeak_trial_vals)):\n",
    "    trial_Lpeak_val = np.array([Lpeak_trial_vals[i]])\n",
    "    chisq_vals[i] = chisq(np.array(trial_Lpeak_val), sn_z_near, sn_mag_near, sn_mag_err_near)\n",
    "print(deg_freedom)\n",
    "red_chisq_vals = chisq_vals/deg_freedom\n",
    "plt.figure(1)\n",
    "plt.plot(Lpeak_trial_vals, chisq_vals)\n",
    "plt.xlabel(\"${L_{\\lambda, peak}}$ ${(W Å^{-1})}$\")\n",
    "plt.ylabel(\"${χ^{2}}$\")\n",
    "min_chisq = np.min(chisq_vals)\n",
    "optimised_Lpl = Lpeak_trial_vals[np.argmin(chisq_vals)]\n",
    "plt.scatter(optimised_Lpl, min_chisq, label = \"Minimum ${χ^{2}}$\", color = \"red\")\n",
    "plt.axvline(optimised_Lpl, 0, color = \"red\", linestyle = \"--\")\n",
    "min_chisq_plus = min_chisq + 1\n",
    "min_chisq_minus = min_chisq - 1\n",
    "plt.axvspan(optimised_Lpl - Lpl_err, optimised_Lpl + Lpl_err, alpha = 0.2, label = \"68% confidence interval\")\n",
    "plt.legend()\n",
    "plt.show()"
   ]
  },
  {
   "cell_type": "markdown",
   "metadata": {},
   "source": [
    "# Chi-squared minimisation to find energy densities of matter and dark energy"
   ]
  },
  {
   "cell_type": "code",
   "execution_count": null,
   "metadata": {},
   "outputs": [],
   "source": [
    "initial = np.array([0.7]) #initial guess for L_peak_lambda\n",
    "deg_freedom = sn_z_near.size - initial.size #change x to actual data values\n",
    "popt, cov = scp.optimize.curve_fit(mag_model_near, # function to fit\n",
    "                                     sn_z_near, # x data\n",
    "                                     sn_mag_near, # y data\n",
    "                                     sigma=sn_mag_err_near, # set yerr as the array of error bars for the fit\n",
    "                                     absolute_sigma=True, # errors bars DO represent 1 std error\n",
    "                                     p0=initial, # starting point for fit\n",
    "                                     check_finite=True)\n",
    "# define variables\n",
    "def chisq(model_params, x_data, y_data, y_err):\n",
    "    chisqval=0\n",
    "    for i in range(len(x_data)):\n",
    "        chisqval += ((y_data[i] - mag_model_near(x_data[i], *model_params))/y_err[i])**2 \n",
    "        # NOTE again the asterisk (*) before 'model_params' here!\n",
    "    return chisqval\n",
    "\n",
    "chisq_min = chisq(popt, sn_z_near, sn_mag_near, sn_mag_err_near)\n",
    "reduced_chisq_min = chisq_min/deg_freedom\n",
    "print(reduced_chisq_min)\n",
    "popt_errs = np.sqrt(np.diag(cov))\n",
    "for i in range(len(popt)):\n",
    "    print('optimised parameter[{}] = {} +/- {}'.format(i, popt[i], popt_errs[i]))"
   ]
  }
 ],
 "metadata": {
  "kernelspec": {
   "display_name": "Python 3",
   "language": "python",
   "name": "python3"
  },
  "language_info": {
   "codemirror_mode": {
    "name": "ipython",
    "version": 3
   },
   "file_extension": ".py",
   "mimetype": "text/x-python",
   "name": "python",
   "nbconvert_exporter": "python",
   "pygments_lexer": "ipython3",
   "version": "3.12.7"
  }
 },
 "nbformat": 4,
 "nbformat_minor": 2
}
